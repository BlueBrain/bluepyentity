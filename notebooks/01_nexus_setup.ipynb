{
 "cells": [
  {
   "cell_type": "markdown",
   "metadata": {},
   "source": [
    "# Bluepyentity - Nexusforge - Getting Started\n",
    "\n",
    "To have a more seamless experience with Nexus, bluepyentity has a nexus-forge integration that helps with locating the desired data and using it with `SNAP`, `bluepy` and other tools.\n",
    "\n",
    "#### Basic Setup\n",
    "To get started let's import the NexusHelper class:"
   ]
  },
  {
   "cell_type": "code",
   "execution_count": 1,
   "metadata": {},
   "outputs": [],
   "source": [
    "from bluepyentity.nexus import NexusHelper"
   ]
  },
  {
   "cell_type": "markdown",
   "metadata": {},
   "source": [
    "The NexusHelper has only one required (positional) argument:\n",
    "* `bucket`: The project on Nexus you want to use (in format: `[ORGANIZATION]/[PROJECT]`)\n",
    "\n",
    "In case we want to use the staging instance, we can set that with a keyword argument:\n",
    "* `nexus_environment`: which instance of Nexus to use. `prod` (for production), `staging` (for staging). Defaults to `prod`\n",
    "\n",
    "For demonstration purposes, let's use `nse/test` project:"
   ]
  },
  {
   "cell_type": "code",
   "execution_count": 2,
   "metadata": {},
   "outputs": [],
   "source": [
    "BUCKET = \"nse/test\""
   ]
  },
  {
   "cell_type": "markdown",
   "metadata": {},
   "source": [
    "`bluepyentity` can obtain the nexus token via kerberos without prompting for token or password. This requires that:\n",
    "* `requests-kerberos` is installed in the python environment (can be achieved with: `pip install bluepyentity[krb]` on linux command line)\n",
    "* there is a valid kerberos token in the environment (can be achieved with: `kinit` on linux command line)\n",
    "\n",
    "In the notebooks, we assume the requirements above are met. If not, `bluepyentity` will prompt you for the token, in which case, the token can be found in the upper right corner on https://bbp.epfl.ch/nexus/web/ (or https://staging.nise.bbp.epfl.ch/nexus for staging) and pasted into the prompt.\n",
    "\n",
    "Now we can instantiate `NexusHelper`:"
   ]
  },
  {
   "cell_type": "code",
   "execution_count": 3,
   "metadata": {},
   "outputs": [],
   "source": [
    "nexus = NexusHelper(BUCKET, nexus_environment='prod')"
   ]
  },
  {
   "cell_type": "markdown",
   "metadata": {},
   "source": [
    "We will be using this basic setup in the following nexus notebooks."
   ]
  },
  {
   "cell_type": "markdown",
   "metadata": {},
   "source": [
    "#### Advanced\n",
    "\n",
    "`NexusHelper` also has other keyword arguments:\n",
    "* `token`: nexus access token used to instantiate the `nexus-forge` with\n",
    "* `debug`: Allows more verbose output\n",
    "\n",
    "These are mostly targeted to the developers and are outside the scope of these notebooks."
   ]
  }
 ],
 "metadata": {
  "kernelspec": {
   "display_name": "Python 3 (ipykernel)",
   "language": "python",
   "name": "python3"
  },
  "language_info": {
   "codemirror_mode": {
    "name": "ipython",
    "version": 3
   },
   "file_extension": ".py",
   "mimetype": "text/x-python",
   "name": "python",
   "nbconvert_exporter": "python",
   "pygments_lexer": "ipython3",
   "version": "3.9.7"
  }
 },
 "nbformat": 4,
 "nbformat_minor": 4
}
